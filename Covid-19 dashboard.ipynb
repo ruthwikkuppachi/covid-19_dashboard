{
 "cells": [
  {
   "cell_type": "code",
   "execution_count": 1,
   "metadata": {},
   "outputs": [],
   "source": [
    "#Imports\n",
    "import requests\n",
    "import pandas as pd\n",
    "from pandas import json_normalize\n",
    "import mysql.connector\n",
    "import pymysql\n",
    "from sqlalchemy import create_engine\n",
    "import warnings\n",
    "from pandas.core.common import SettingWithCopyWarning\n",
    "warnings.simplefilter(action=\"ignore\", category=SettingWithCopyWarning)"
   ]
  },
  {
   "cell_type": "markdown",
   "metadata": {},
   "source": [
    "## COVID-19 Daily Summary Statistics by Country"
   ]
  },
  {
   "cell_type": "code",
   "execution_count": 2,
   "metadata": {},
   "outputs": [],
   "source": [
    "#Fetching the daily covid data from Postman API\n",
    "api = r'https://api.covid19api.com/summary'\n",
    "r = requests.get(api)"
   ]
  },
  {
   "cell_type": "code",
   "execution_count": 3,
   "metadata": {},
   "outputs": [],
   "source": [
    "#Flattening JSON to Dataframe\n",
    "daily_df = json_normalize(r.json(), record_path = 'Countries')"
   ]
  },
  {
   "cell_type": "markdown",
   "metadata": {},
   "source": [
    "## Contry Data"
   ]
  },
  {
   "cell_type": "code",
   "execution_count": 4,
   "metadata": {},
   "outputs": [],
   "source": [
    "daily_df['country_id'] = daily_df.groupby(['Country']).ngroup()"
   ]
  },
  {
   "cell_type": "code",
   "execution_count": 5,
   "metadata": {},
   "outputs": [],
   "source": [
    "country_data = daily_df[['Country', 'country_id']]"
   ]
  },
  {
   "cell_type": "code",
   "execution_count": 6,
   "metadata": {},
   "outputs": [],
   "source": [
    "region_data = pd.read_csv('countries.csv')"
   ]
  },
  {
   "cell_type": "code",
   "execution_count": 7,
   "metadata": {},
   "outputs": [],
   "source": [
    "country_data = pd.merge(country_data, region_data, how = 'left', on='Country', indicator = True)"
   ]
  },
  {
   "cell_type": "code",
   "execution_count": 8,
   "metadata": {},
   "outputs": [],
   "source": [
    "for country in zip(country_data[country_data['_merge'] == 'left_only']['Country'], ['Congo', 'Congo, Democratic Republic of', 'Ivory Coast', 'Vatican City', 'Laos', 'Syria', 'Venezuela', 'Vietnam']):\n",
    "    country_data['Country'] = country_data['Country'].replace(country[0], country[1])"
   ]
  },
  {
   "cell_type": "code",
   "execution_count": 9,
   "metadata": {},
   "outputs": [],
   "source": [
    "country_data = country_data.drop(['Continent'], axis = 1)\n",
    "country_data = pd.merge(country_data, region_data, how = 'left', on='Country')"
   ]
  },
  {
   "cell_type": "markdown",
   "metadata": {},
   "source": [
    "## COVID-19 Vaccinations By Country"
   ]
  },
  {
   "cell_type": "code",
   "execution_count": 10,
   "metadata": {},
   "outputs": [],
   "source": [
    "vaccines_url = 'https://raw.githubusercontent.com/owid/covid-19-data/master/public/data/vaccinations/vaccinations.csv'\n",
    "vaccinations = pd.read_csv(vaccines_url)"
   ]
  },
  {
   "cell_type": "code",
   "execution_count": 11,
   "metadata": {},
   "outputs": [],
   "source": [
    "vaccinations = vaccinations[~vaccinations.location.isin(\n",
    "                            ['World','Asia', 'Europe', 'European Union', 'Africa', 'North America', 'South America',\n",
    "                             'Oceania', 'Cayman Islands', 'Gibraltar', 'Bermuda', 'Isle of Man', 'Guernsey',\n",
    "                             'Faeroe Islands', 'Jersey', 'Saint Helena', 'Anguilla', 'Macao', 'Greenland', 'Montserrat',\n",
    "                             'Turks and Caicos Islands', 'Hong Kong', 'Falkland Islands', 'Northern Cyprus'])]"
   ]
  },
  {
   "cell_type": "code",
   "execution_count": 12,
   "metadata": {},
   "outputs": [],
   "source": [
    "for country in zip(['Russia', 'United States', 'Czechia', 'South Korea', \"Cote d'Ivoire\", 'Iran'], ['Russian Federation', 'United States of America', 'Czech Republic', 'Korea (South)', 'Ivory Coast', 'Iran, Islamic Republic of']):\n",
    "    vaccinations['location'] = vaccinations['location'].replace(country[0], country[1])"
   ]
  },
  {
   "cell_type": "code",
   "execution_count": 14,
   "metadata": {},
   "outputs": [],
   "source": [
    "vaccinations = pd.merge(vaccinations, country_data[['Country', 'country_id']], left_on = 'location', right_on = 'Country', indicator = True)"
   ]
  },
  {
   "cell_type": "code",
   "execution_count": 15,
   "metadata": {},
   "outputs": [],
   "source": [
    "vaccinations['country_id'].loc[vaccinations[vaccinations['location'].isin(['England', 'Wales', 'Scotland', 'Northern Ireland'])].index] = 180"
   ]
  },
  {
   "cell_type": "markdown",
   "metadata": {},
   "source": [
    "## Data Cleaning/Wrangling"
   ]
  },
  {
   "cell_type": "code",
   "execution_count": 16,
   "metadata": {},
   "outputs": [],
   "source": [
    "daily_df = daily_df.drop(['ID', 'Country', 'Slug', 'NewRecovered', 'TotalRecovered', 'CountryCode'], axis = 1)\n",
    "daily_df.columns = ['new_confirmed', 'total_confirmed', 'new_deaths', 'total_deaths', 'date', 'country_id']\n",
    "daily_df['date'] = daily_df['date'].apply(lambda x: x[0:10])"
   ]
  },
  {
   "cell_type": "code",
   "execution_count": 17,
   "metadata": {},
   "outputs": [],
   "source": [
    "country_data = country_data.drop(['_merge'], axis = 1)\n",
    "country_data.columns = ['country', 'country_id', 'region']"
   ]
  },
  {
   "cell_type": "code",
   "execution_count": 18,
   "metadata": {},
   "outputs": [],
   "source": [
    "vaccinations = vaccinations.drop(['iso_code', 'daily_vaccinations_raw', 'location', 'Country', '_merge'], axis = 1)"
   ]
  },
  {
   "cell_type": "markdown",
   "metadata": {},
   "source": [
    "## Storing the data in a MySQL database"
   ]
  },
  {
   "cell_type": "code",
   "execution_count": 19,
   "metadata": {},
   "outputs": [],
   "source": [
    "hostname = \"localhost\"\n",
    "uname = \"***\"\n",
    "pwd = \"***\"\n",
    "dbname = \"covid_data\""
   ]
  },
  {
   "cell_type": "code",
   "execution_count": 20,
   "metadata": {},
   "outputs": [],
   "source": [
    "engine = create_engine(\"mysql+pymysql://{user}:{pw}@{host}/{db}\"\n",
    "                .format(host=hostname, db=dbname, user=uname, pw=pwd))"
   ]
  },
  {
   "cell_type": "code",
   "execution_count": 21,
   "metadata": {},
   "outputs": [],
   "source": [
    "connection = engine.connect()"
   ]
  },
  {
   "cell_type": "code",
   "execution_count": 22,
   "metadata": {},
   "outputs": [
    {
     "data": {
      "text/plain": [
       "<sqlalchemy.engine.result.ResultProxy at 0x1f44bb3cb00>"
      ]
     },
     "execution_count": 22,
     "metadata": {},
     "output_type": "execute_result"
    }
   ],
   "source": [
    "connection.execute(\"CREATE DATABASE IF NOT EXISTS covid_data\")"
   ]
  },
  {
   "cell_type": "code",
   "execution_count": 23,
   "metadata": {},
   "outputs": [
    {
     "data": {
      "text/plain": [
       "<sqlalchemy.engine.result.ResultProxy at 0x1f44bf31ef0>"
      ]
     },
     "execution_count": 23,
     "metadata": {},
     "output_type": "execute_result"
    }
   ],
   "source": [
    "connection.execute('''\n",
    "CREATE TABLE IF NOT EXISTS daily_data (\n",
    "    country_id INTEGER NOT NULL,\n",
    "    date DATETIME NOT NULL,\n",
    "    new_confirmed INTEGER,\n",
    "    total_confirmed INTEGER NOT NULL,\n",
    "    new_deaths INTEGER,\n",
    "    total_deaths INTEGER NOT NULL\n",
    ")\n",
    "''')"
   ]
  },
  {
   "cell_type": "code",
   "execution_count": 24,
   "metadata": {},
   "outputs": [
    {
     "data": {
      "text/plain": [
       "<sqlalchemy.engine.result.ResultProxy at 0x1f44be70f28>"
      ]
     },
     "execution_count": 24,
     "metadata": {},
     "output_type": "execute_result"
    }
   ],
   "source": [
    "connection.execute('''\n",
    "CREATE TABLE IF NOT EXISTS countries (\n",
    "    country_id INTEGER NOT NULL,\n",
    "    country VARCHAR(50) NOT NULL,\n",
    "    region VARCHAR(50) NOT NULL,\n",
    "    PRIMARY KEY (country_id)\n",
    ")\n",
    "''')"
   ]
  },
  {
   "cell_type": "code",
   "execution_count": 25,
   "metadata": {},
   "outputs": [
    {
     "data": {
      "text/plain": [
       "<sqlalchemy.engine.result.ResultProxy at 0x1f44be70e10>"
      ]
     },
     "execution_count": 25,
     "metadata": {},
     "output_type": "execute_result"
    }
   ],
   "source": [
    "connection.execute('''\n",
    "CREATE TABLE IF NOT EXISTS vaccinations (\n",
    "    country_id INTEGER NOT NULL,\n",
    "    date DATETIME NOT NULL,\n",
    "    total_vaccinations INTEGER,\n",
    "    people_vaccinated INTEGER,\n",
    "    people_fully_vaccinated INTEGER,\n",
    "    daily_vaccinations INTEGER,\n",
    "    total_vaccinations_per_hundred DECIMAL(5,2),\n",
    "    people_vaccinated_per_hundred DECIMAL(5,2),\n",
    "    people_fully_vaccinated_per_hundred DECIMAL(5,2),\n",
    "    daily_vaccinations_per_million DECIMAL(9,2)\n",
    ")\n",
    "''')"
   ]
  },
  {
   "cell_type": "code",
   "execution_count": 26,
   "metadata": {},
   "outputs": [],
   "source": [
    "daily_df.to_sql(con = engine, name = 'daily_data', index = False, if_exists='append')"
   ]
  },
  {
   "cell_type": "code",
   "execution_count": 27,
   "metadata": {},
   "outputs": [
    {
     "data": {
      "text/plain": [
       "<sqlalchemy.engine.result.ResultProxy at 0x1f44bf6ba90>"
      ]
     },
     "execution_count": 27,
     "metadata": {},
     "output_type": "execute_result"
    }
   ],
   "source": [
    "connection.execute('ALTER TABLE daily_data ADD id SERIAL PRIMARY KEY')\n",
    "connection.execute('ALTER TABLE daily_data CHANGE id id SERIAL NOT NULL FIRST')"
   ]
  },
  {
   "cell_type": "code",
   "execution_count": 28,
   "metadata": {},
   "outputs": [],
   "source": [
    "country_data.to_sql(con = engine, name = 'countries', index = False, if_exists = 'replace')"
   ]
  },
  {
   "cell_type": "code",
   "execution_count": 29,
   "metadata": {},
   "outputs": [],
   "source": [
    "vaccinations.to_sql(con = engine, name = 'vaccinations', index = False, if_exists = 'append')"
   ]
  },
  {
   "cell_type": "code",
   "execution_count": 30,
   "metadata": {},
   "outputs": [
    {
     "data": {
      "text/plain": [
       "<sqlalchemy.engine.result.ResultProxy at 0x1f44bfa00b8>"
      ]
     },
     "execution_count": 30,
     "metadata": {},
     "output_type": "execute_result"
    }
   ],
   "source": [
    "connection.execute('ALTER TABLE vaccinations ADD id SERIAL PRIMARY KEY')\n",
    "connection.execute('ALTER TABLE vaccinations CHANGE id id SERIAL NOT NULL FIRST')"
   ]
  },
  {
   "cell_type": "code",
   "execution_count": 31,
   "metadata": {},
   "outputs": [],
   "source": [
    "connection.close()"
   ]
  }
 ],
 "metadata": {
  "kernelspec": {
   "display_name": "Python 3",
   "language": "python",
   "name": "python3"
  },
  "language_info": {
   "codemirror_mode": {
    "name": "ipython",
    "version": 3
   },
   "file_extension": ".py",
   "mimetype": "text/x-python",
   "name": "python",
   "nbconvert_exporter": "python",
   "pygments_lexer": "ipython3",
   "version": "3.7.3"
  }
 },
 "nbformat": 4,
 "nbformat_minor": 4
}
